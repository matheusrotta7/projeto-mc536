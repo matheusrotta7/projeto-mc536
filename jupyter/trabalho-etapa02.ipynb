{
 "cells": [
  {
   "cell_type": "code",
   "execution_count": 1,
   "metadata": {},
   "outputs": [],
   "source": [
    "%defaultDatasource jdbc:h2:mem:db"
   ]
  },
  {
   "cell_type": "code",
   "execution_count": 2,
   "metadata": {},
   "outputs": [],
   "source": [
    "CREATE TABLE Tumor (\n",
    "    Id INTEGER NOT NULL,\n",
    "    Diagnostico VARCHAR(1),\n",
    "    PRIMARY KEY(Id)\n",
    ") AS SELECT Id, Diagnostico\n",
    "FROM CSVREAD('tumor.csv');\n"
   ]
  },
  {
   "cell_type": "code",
   "execution_count": 3,
   "metadata": {},
   "outputs": [
    {
     "data": {
      "application/vnd.jupyter.widget-view+json": {
       "model_id": "336b10f0-36ae-472f-8e37-9eacdb61f96f",
       "version_major": 2,
       "version_minor": 0
      },
      "method": "display_data"
     },
     "metadata": {},
     "output_type": "display_data"
    }
   ],
   "source": [
    "select * from Tumor"
   ]
  },
  {
   "cell_type": "code",
   "execution_count": 4,
   "metadata": {},
   "outputs": [],
   "source": [
    "CREATE TABLE MediaValoresEscalares (\n",
    "    idTumor INTEGER NOT NULL, \n",
    "    mediaRaios FLOAT, \n",
    "    mediaPerimetros FLOAT, \n",
    "    mediaAreas FLOAT,\n",
    "    PRIMARY KEY(idTumor)\n",
    ") AS SELECT idTumor, mediaRaios, mediaPerimetros, mediaAreas\n",
    "FROM CSVREAD('mediavaloresescalares.csv');\n",
    "\n",
    "CREATE TABLE MediaValoresVisuais (\n",
    "    idTumor INTEGER NOT NULL, \n",
    "    mediaTexturas FLOAT, \n",
    "    mediaSuavidades FLOAT,\n",
    "    mediaCompactudes FLOAT,\n",
    "    mediaConcavidades FLOAT, \n",
    "    mediaPontosConcavos FLOAT, \n",
    "    mediaSimetria FLOAT,\n",
    "    mediaDimensaoFractal FLOAT,\n",
    "    PRIMARY KEY(idTumor)\n",
    ") AS SELECT idTumor, mediaTexturas, mediaSuavidades, mediaCompactudes, mediaConcavidades, mediaPontosConcavos, mediaSimetria, mediaDimensaoFractal\n",
    "FROM CSVREAD('mediavaloresvisuais.csv');\n"
   ]
  },
  {
   "cell_type": "code",
   "execution_count": 5,
   "metadata": {},
   "outputs": [
    {
     "data": {
      "application/vnd.jupyter.widget-view+json": {
       "model_id": "920d39da-5403-468a-9a34-8ee2a8413c88",
       "version_major": 2,
       "version_minor": 0
      },
      "method": "display_data"
     },
     "metadata": {},
     "output_type": "display_data"
    }
   ],
   "source": [
    "select * from MediaValoresVisuais"
   ]
  },
  {
   "cell_type": "code",
   "execution_count": 6,
   "metadata": {},
   "outputs": [
    {
     "data": {
      "application/vnd.jupyter.widget-view+json": {
       "model_id": "4a852831-fa69-4d0a-a4cc-5f1b62bcf402",
       "version_major": 2,
       "version_minor": 0
      },
      "method": "display_data"
     },
     "metadata": {},
     "output_type": "display_data"
    }
   ],
   "source": [
    "select * from MediaValoresEscalares"
   ]
  },
  {
   "cell_type": "code",
   "execution_count": 7,
   "metadata": {},
   "outputs": [
    {
     "data": {
      "application/vnd.jupyter.widget-view+json": {
       "model_id": "15971849-cb0b-441d-9e38-1c9f185aaad9",
       "version_major": 2,
       "version_minor": 0
      },
      "method": "display_data"
     },
     "metadata": {},
     "output_type": "display_data"
    }
   ],
   "source": [
    "select t.Id, t.Diagnostico, m.mediaSimetria \n",
    "from MediaValoresVisuais m, Tumor t \n",
    "where t.Id = m.idTumor and m.mediaSimetria > 0.25; "
   ]
  },
  {
   "cell_type": "code",
   "execution_count": 8,
   "metadata": {},
   "outputs": [
    {
     "data": {
      "application/vnd.jupyter.widget-view+json": {
       "model_id": "8d914b7b-4b46-4023-bcd7-1d9044d88cb8",
       "version_major": 2,
       "version_minor": 0
      },
      "method": "display_data"
     },
     "metadata": {},
     "output_type": "display_data"
    }
   ],
   "source": [
    "select t.Diagnostico, count(*) \n",
    "from MediaValoresVisuais m, Tumor t \n",
    "where t.Id = m.idTumor and m.mediaSuavidades < 0.07 group by t.Diagnostico; "
   ]
  },
  {
   "cell_type": "code",
   "execution_count": 16,
   "metadata": {},
   "outputs": [
    {
     "data": {
      "application/vnd.jupyter.widget-view+json": {
       "model_id": "face553f-b13a-4828-9af1-fdd49fd7001b",
       "version_major": 2,
       "version_minor": 0
      },
      "method": "display_data"
     },
     "metadata": {},
     "output_type": "display_data"
    }
   ],
   "source": [
    "select t.Diagnostico, count(*) \n",
    "from MediaValoresEscalares m, Tumor t \n",
    "where t.Id = m.idTumor and m.mediaRaios > 15 group by t.Diagnostico; "
   ]
  },
  {
   "cell_type": "code",
   "execution_count": 21,
   "metadata": {},
   "outputs": [
    {
     "data": {
      "application/vnd.jupyter.widget-view+json": {
       "model_id": "ec49458b-63f2-413f-9f89-4208234090ce",
       "version_major": 2,
       "version_minor": 0
      },
      "method": "display_data"
     },
     "metadata": {},
     "output_type": "display_data"
    }
   ],
   "source": [
    "select t.Diagnostico, count(*) \n",
    "from MediaValoresEscalares me, MediaValoresVisuais mv, Tumor t \n",
    "where t.Id = me.idTumor and mv.idTumor = me.idTumor and me.mediaRaios > 15 and mv.mediaTexturas > 15 group by t.Diagnostico; "
   ]
  }
 ],
 "metadata": {
  "kernelspec": {
   "display_name": "SQL",
   "language": "SQL",
   "name": "sql"
  },
  "language_info": {
   "codemirror_mode": "sql",
   "file_extension": ".sql",
   "mimetype": "",
   "name": "SQL",
   "nbconverter_exporter": "",
   "version": ""
  }
 },
 "nbformat": 4,
 "nbformat_minor": 2
}
