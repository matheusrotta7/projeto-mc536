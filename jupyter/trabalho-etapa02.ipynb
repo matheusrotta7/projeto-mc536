{
 "cells": [
  {
   "cell_type": "code",
   "execution_count": 1,
   "metadata": {},
   "outputs": [],
   "source": [
    "# %%!\n",
    "# pip install --trusted-host pypi.org ipython-sql"
   ]
  },
  {
   "cell_type": "code",
   "execution_count": 2,
   "metadata": {},
   "outputs": [],
   "source": [
    "%load_ext sql"
   ]
  },
  {
   "cell_type": "code",
   "execution_count": 3,
   "metadata": {},
   "outputs": [
    {
     "data": {
      "text/plain": [
       "'Connected: @None'"
      ]
     },
     "execution_count": 3,
     "metadata": {},
     "output_type": "execute_result"
    }
   ],
   "source": [
    "%sql sqlite://"
   ]
  },
  {
   "cell_type": "markdown",
   "metadata": {},
   "source": [
    "**Modelo Lógico**:\n",
    "\n",
    "Tumor: (idTumor*, diagnóstico)\n",
    "MédiaValoresEscalares: (idTumor*, médiaRaios, médiaPerímetros, médiaÁreas)\n",
    "MédiaValoresVisuais: (idTumor*, médiaTexturas, médiaSuavidades, médiaCompactudes, médiaConcavidades, médiaPontosCôncavos, médiaSimetria, médiaDimensãoFractal)\n",
    "\n",
    "MaioresValoresEscalares: (idTumor*, maioresRaios, maioresPerímetros, maioresÁreas)\n",
    "MaioresValoresVisuais: (idTumor*, maioresTexturas, maioresSuavidades, maioresCompactudes, maioresConcavidades, maioresPontosCôncavos, maioresSimetria, maioresDimensãoFractal)\n",
    "\n",
    "DesvioPadrãoValoresEscalares: (idTumor*, desvioPadrãoRaios, desvioPadrãoPerímetros, desvioPadrãoÁreas)\n",
    "DesvioPadrãoValoresVisuais: (idTumor*, desvioPadrãoTexturas, desvioPadrãoSuavidades, desvioPadrãoCompactudes, desvioPadrãoConcavidades, desvioPadrãoPontosCôncavos, desvioPadrãoSimetria, desvioPadrãoDimensãoFractal)\n"
   ]
  },
  {
   "cell_type": "code",
   "execution_count": 4,
   "metadata": {},
   "outputs": [
    {
     "name": "stdout",
     "output_type": "stream",
     "text": [
      " * sqlite://\n",
      "Done.\n"
     ]
    },
    {
     "data": {
      "text/plain": [
       "[]"
      ]
     },
     "execution_count": 4,
     "metadata": {},
     "output_type": "execute_result"
    }
   ],
   "source": [
    "%%sql\n",
    "CREATE TABLE Tumor (\n",
    "    Id INTEGER NOT NULL,\n",
    "    Diagnostico VARCHAR(1),\n",
    "    PRIMARY KEY(Id)\n",
    ");\n"
   ]
  },
  {
   "cell_type": "code",
   "execution_count": 7,
   "metadata": {},
   "outputs": [
    {
     "name": "stdout",
     "output_type": "stream",
     "text": [
      " * sqlite://\n",
      "(sqlite3.OperationalError) near \".\": syntax error [SQL: u'-- .mode csv\\n.import ../tumor.csv Tumor'] (Background on this error at: http://sqlalche.me/e/e3q8)\n"
     ]
    }
   ],
   "source": [
    "%%sql\n",
    ".mode csv\n",
    ".import ../tumor.csv Tumor"
   ]
  },
  {
   "cell_type": "code",
   "execution_count": 10,
   "metadata": {},
   "outputs": [
    {
     "name": "stderr",
     "output_type": "stream",
     "text": [
      "UsageError: Line magic function `%defaultDatasource` not found.\n"
     ]
    }
   ],
   "source": []
  }
 ],
 "metadata": {
  "kernelspec": {
   "display_name": "Python 2",
   "language": "python",
   "name": "python2"
  },
  "language_info": {
   "codemirror_mode": {
    "name": "ipython",
    "version": 2
   },
   "file_extension": ".py",
   "mimetype": "text/x-python",
   "name": "python",
   "nbconvert_exporter": "python",
   "pygments_lexer": "ipython2",
   "version": "2.7.15"
  }
 },
 "nbformat": 4,
 "nbformat_minor": 2
}
