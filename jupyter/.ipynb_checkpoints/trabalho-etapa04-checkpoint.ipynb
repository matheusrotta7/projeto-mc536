{
 "cells": [
  {
   "cell_type": "markdown",
   "metadata": {},
   "source": [
    "<h1>Código de conversão dos dados de CSV para XML:</h1>  "
   ]
  },
  {
   "cell_type": "code",
   "execution_count": null,
   "metadata": {},
   "outputs": [],
   "source": [
    "#include<bits/stdc++.h>\n",
    "\n",
    "using namespace std;\n",
    "\n",
    "int main() {\n",
    "\n",
    "    printf(\"<allmeandata>\\n\");\n",
    "\n",
    "    int id_number;\n",
    "    char diagnosis;\n",
    "    float mean_radius, sd_radius, largest_radius;\n",
    "    float mean_texture, sd_texture, largest_texture;\n",
    "    float mean_perimeter, sd_perimeter, largest_perimeter;\n",
    "    float mean_area, sd_area, largest_area;\n",
    "    float mean_smoothness, sd_smoothness, largest_smoothness;\n",
    "    float mean_compactness, sd_compactness, largest_compactness;\n",
    "    float mean_concavity, sd_concavity, largest_concavity;\n",
    "    float mean_concave_points, sd_concave_points, largest_concave_points;\n",
    "    float mean_symmetry, sd_symmetry, largest_symmetry;\n",
    "    float mean_fractal_dimension, sd_fractal_dimension, largest_fractal_dimension;\n",
    "    while (scanf(\"%d,%c,%f,%f,%f,%f,%f,%f,%f,%f,%f,%f,%f,%f,%f,%f,%f,%f,%f,%f,%f,%f,%f,%f,%f,%f,%f,%f,%f,%f,%f,%f\",\n",
    "    &id_number, &diagnosis,\n",
    "    &mean_radius,\n",
    "    &mean_texture,\n",
    "    &mean_perimeter,\n",
    "    &mean_area,\n",
    "    &mean_smoothness,\n",
    "    &mean_compactness,\n",
    "    &mean_concavity,\n",
    "    &mean_concave_points,\n",
    "    &mean_symmetry,\n",
    "    &mean_fractal_dimension,\n",
    "    &sd_radius,\n",
    "    &sd_texture,\n",
    "    &sd_perimeter,\n",
    "    &sd_area,\n",
    "    &sd_smoothness,\n",
    "    &sd_compactness,\n",
    "    &sd_concavity,\n",
    "    &sd_concave_points,\n",
    "    &sd_symmetry,\n",
    "    &sd_fractal_dimension,\n",
    "    &largest_radius,\n",
    "    &largest_texture,\n",
    "    &largest_perimeter,\n",
    "    &largest_area,\n",
    "    &largest_smoothness,\n",
    "    &largest_compactness,\n",
    "    &largest_concavity,\n",
    "    &largest_concave_points,\n",
    "    &largest_symmetry,\n",
    "    &largest_fractal_dimension)!=EOF) {\n",
    "        printf(\"\\t<tumor>\\n\");\n",
    "\n",
    "        printf(\"\\t\\t<id_number>\");\n",
    "        printf(\"%d\", id_number);\n",
    "        printf(\"</id_number>\\n\");\n",
    "\n",
    "        printf(\"\\t\\t<diagnosis>\");\n",
    "        printf(\"%c\", diagnosis);\n",
    "        printf(\"</diagnosis>\\n\");\n",
    "\n",
    "        printf(\"\\t\\t<mean_radius>\");\n",
    "        printf(\"%f\", mean_radius);\n",
    "        printf(\"</mean_radius>\\n\");\n",
    "\n",
    "        printf(\"\\t\\t<mean_texture>\");\n",
    "        printf(\"%f\", mean_texture);\n",
    "        printf(\"</mean_texture>\\n\");\n",
    "\n",
    "        printf(\"\\t\\t<mean_perimeter>\");\n",
    "        printf(\"%f\", mean_perimeter);\n",
    "        printf(\"</mean_perimeter>\\n\");\n",
    "\n",
    "        printf(\"\\t\\t<mean_area>\");\n",
    "        printf(\"%f\", mean_area);\n",
    "        printf(\"</mean_area>\\n\");\n",
    "\n",
    "        printf(\"\\t\\t<mean_smoothness>\");\n",
    "        printf(\"%f\", mean_smoothness);\n",
    "        printf(\"</mean_smoothness>\\n\");\n",
    "\n",
    "        printf(\"\\t\\t<mean_compactness>\");\n",
    "        printf(\"%f\", mean_compactness);\n",
    "        printf(\"</mean_compactness>\\n\");\n",
    "\n",
    "        printf(\"\\t\\t<mean_concavity>\");\n",
    "        printf(\"%f\", mean_concavity);\n",
    "        printf(\"</mean_concavity>\\n\");\n",
    "\n",
    "        printf(\"\\t\\t<mean_concave_points>\");\n",
    "        printf(\"%f\", mean_concave_points);\n",
    "        printf(\"</mean_concave_points>\\n\");\n",
    "\n",
    "        printf(\"\\t\\t<mean_symmetry>\");\n",
    "        printf(\"%f\", mean_symmetry);\n",
    "        printf(\"</mean_symmetry>\\n\");\n",
    "\n",
    "        printf(\"\\t\\t<mean_fractal_dimension>\");\n",
    "        printf(\"%f\", mean_fractal_dimension);\n",
    "        printf(\"</mean_fractal_dimension>\\n\");\n",
    "\n",
    "        printf(\"\\t</tumor>\\n\");\n",
    "    }\n",
    "\n",
    "    printf(\"</allmeandata>\");\n",
    "\n",
    "    return 0;\n",
    "}\n"
   ]
  },
  {
   "cell_type": "markdown",
   "metadata": {},
   "source": [
    "<h1>Consultas e resultados:</h1>"
   ]
  },
  {
   "cell_type": "markdown",
   "metadata": {},
   "source": [
    "<h3>Porcentagem dos tumores benignos que apresentam baixa simetria</h3>"
   ]
  },
  {
   "cell_type": "markdown",
   "metadata": {},
   "source": [
    "let $fichariodoc := doc('mydoc.xml')\n",
    "\n",
    "\n",
    "return {count($fichariodoc//tumor[mean_symmetry < 0.21 and diagnosis = 'B']) div count($fichariodoc//tumor[mean_symmetry < 0.21])} \n",
    "\n"
   ]
  },
  {
   "cell_type": "markdown",
   "metadata": {},
   "source": [
    "0.797101449275362319   --- (80% dos tumores com baixa simetria nas células eram benignos)"
   ]
  },
  {
   "cell_type": "markdown",
   "metadata": {},
   "source": [
    "<h3>Porcentagem dos tumores malignos que apresentam alta simetria e alta dimensão fractal</h3>"
   ]
  },
  {
   "cell_type": "markdown",
   "metadata": {},
   "source": [
    "let $fichariodoc := doc('mydoc.xml')\n",
    "\n",
    "\n",
    "return {count($fichariodoc//tumor[mean_symmetry > 0.21 and mean_fractal_dimension > 0.06 and diagnosis = 'M']) div count($fichariodoc//tumor[mean_symmetry > 0.21 and mean_fractal_dimension > 0.06])} \n"
   ]
  },
  {
   "cell_type": "markdown",
   "metadata": {},
   "source": [
    "0.615384615384615385"
   ]
  },
  {
   "cell_type": "markdown",
   "metadata": {},
   "source": [
    "<h3>ID's dos tumores que apresentam alta simetria e menor dimensão fractal</h3>\n"
   ]
  },
  {
   "cell_type": "markdown",
   "metadata": {},
   "source": [
    "let $fichariodoc := doc('mydoc.xml')\n",
    "\n",
    "\n",
    "return {data(($fichariodoc//tumor[mean_symmetry > 0.21 and mean_fractal_dimension < 0.065])/id_number)} \n"
   ]
  },
  {
   "cell_type": "markdown",
   "metadata": {},
   "source": [
    "914062 91930402 919555"
   ]
  },
  {
   "cell_type": "markdown",
   "metadata": {},
   "source": [
    "<h3>Avaliando duplas de simetria muito próxima para ver se bate o diagnóstico</h3>\n"
   ]
  },
  {
   "cell_type": "code",
   "execution_count": null,
   "metadata": {},
   "outputs": [],
   "source": [
    "let $fichariodoc := doc('mydoc.xml')\n",
    "\n",
    "for $i in ($fichariodoc//tumor)\n",
    "for $j in ($fichariodoc//tumor)\n",
    "where (abs(data($i/mean_symmetry) - data($j/mean_symmetry)) < 0.0001 and ($i != $j))\n",
    "return \n",
    "<dupla>\n",
    "<primeiro>{data($i/diagnosis)}</primeiro> \n",
    "<segundo>{data($j/diagnosis)}</segundo>\n",
    "</dupla>"
   ]
  },
  {
   "cell_type": "markdown",
   "metadata": {},
   "source": [
    "<h4>Obs: clique no markdown a seguir para ver como saiu o XML</h4>"
   ]
  },
  {
   "cell_type": "markdown",
   "metadata": {},
   "source": [
    "<dupla><primeiro>M</primeiro><segundo>M</segundo></dupla>\n",
    "<dupla><primeiro>B</primeiro><segundo>B</segundo></dupla>\n",
    "<dupla><primeiro>B</primeiro><segundo>B</segundo></dupla>\n",
    "<dupla><primeiro>M</primeiro><segundo>M</segundo></dupla>\n",
    "<dupla><primeiro>M</primeiro><segundo>B</segundo></dupla>\n",
    "<dupla><primeiro>B</primeiro><segundo>B</segundo></dupla>\n",
    "<dupla><primeiro>B</primeiro><segundo>B</segundo></dupla>\n",
    "<dupla><primeiro>B</primeiro><segundo>M</segundo></dupla>\n",
    "<dupla><primeiro>M</primeiro><segundo>M</segundo></dupla>\n",
    "<dupla><primeiro>B</primeiro><segundo>B</segundo></dupla>\n",
    "<dupla><primeiro>B</primeiro><segundo>B</segundo></dupla>\n",
    "<dupla><primeiro>M</primeiro><segundo>M</segundo></dupla>"
   ]
  },
  {
   "cell_type": "markdown",
   "metadata": {},
   "source": [
    "Há uma prevalência de mesmo diagnóstico, o que faz sentido."
   ]
  },
  {
   "cell_type": "markdown",
   "metadata": {},
   "source": [
    "<h3>Avaliando duplas de simetria e número de pontos côncavos próximos para ver se bate o diagnóstico</h3>\n"
   ]
  },
  {
   "cell_type": "code",
   "execution_count": null,
   "metadata": {},
   "outputs": [],
   "source": [
    "let $fichariodoc := doc('mydoc.xml')\n",
    "\n",
    "for $i in ($fichariodoc//tumor)\n",
    "for $j in ($fichariodoc//tumor)\n",
    "where (abs(data($i/mean_symmetry) - data($j/mean_symmetry)) < 0.002 and abs(data($i/mean_concave_points) - data($j/mean_concave_points)) < 0.002 and ($i != $j))\n",
    "return \n",
    "<dupla>\n",
    "<primeiro>{data($i/diagnosis)}</primeiro> \n",
    "<segundo>{data($j/diagnosis)}</segundo>\n",
    "</dupla>"
   ]
  },
  {
   "cell_type": "markdown",
   "metadata": {},
   "source": [
    "<dupla><primeiro>B</primeiro><segundo>B</segundo></dupla>\n",
    "<dupla><primeiro>M</primeiro><segundo>B</segundo></dupla>\n",
    "<dupla><primeiro>B</primeiro><segundo>B</segundo></dupla>\n",
    "<dupla><primeiro>B</primeiro><segundo>B</segundo></dupla>\n",
    "<dupla><primeiro>B</primeiro><segundo>M</segundo></dupla>\n",
    "<dupla><primeiro>B</primeiro><segundo>B</segundo></dupla>\n",
    "<dupla><primeiro>B</primeiro><segundo>B</segundo></dupla>\n",
    "<dupla><primeiro>B</primeiro><segundo>B</segundo></dupla>\n",
    "<dupla><primeiro>B</primeiro><segundo>B</segundo></dupla>\n",
    "<dupla><primeiro>B</primeiro><segundo>B</segundo></dupla>"
   ]
  },
  {
   "cell_type": "markdown",
   "metadata": {},
   "source": [
    "Novamente há uma prevalência de mesmo diagnóstico."
   ]
  },
  {
   "cell_type": "markdown",
   "metadata": {},
   "source": [
    "<h2>Link do projeto no github: https://github.com/matheusrotta7/projeto-mc536 </h2> "
   ]
  }
 ],
 "metadata": {
  "kernelspec": {
   "display_name": "Python 2",
   "language": "python",
   "name": "python2"
  },
  "language_info": {
   "codemirror_mode": {
    "name": "ipython",
    "version": 2
   },
   "file_extension": ".py",
   "mimetype": "text/x-python",
   "name": "python",
   "nbconvert_exporter": "python",
   "pygments_lexer": "ipython2",
   "version": "2.7.15"
  }
 },
 "nbformat": 4,
 "nbformat_minor": 2
}
