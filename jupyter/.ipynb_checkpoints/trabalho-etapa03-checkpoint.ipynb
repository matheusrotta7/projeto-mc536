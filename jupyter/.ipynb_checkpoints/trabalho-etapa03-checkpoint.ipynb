{
 "cells": [
  {
   "cell_type": "code",
   "execution_count": null,
   "metadata": {},
   "outputs": [],
   "source": []
  },
  {
   "cell_type": "code",
   "execution_count": null,
   "metadata": {},
   "outputs": [],
   "source": []
  },
  {
   "cell_type": "code",
   "execution_count": null,
   "metadata": {},
   "outputs": [],
   "source": []
  },
  {
   "cell_type": "code",
   "execution_count": null,
   "metadata": {},
   "outputs": [],
   "source": []
  },
  {
   "cell_type": "markdown",
   "metadata": {},
   "source": [
    "**Comandos em Cypher para inserção dos dados:**"
   ]
  },
  {
   "cell_type": "code",
   "execution_count": null,
   "metadata": {},
   "outputs": [],
   "source": [
    "LOAD CSV WITH HEADERS FROM 'https://raw.githubusercontent.com/matheusrotta7/lab2learn/master/tumor.csv' AS line\n",
    "CREATE (:Tumor {Id: line.Id, Diagnostico: line.Diagnostico})\n",
    "\n",
    "LOAD CSV WITH HEADERS FROM\n",
    "'https://raw.githubusercontent.com/matheusrotta7/lab2learn/master/mediaValoresEscalares.csv' AS line2\n",
    "CREATE (:mediaEscalares\n",
    "{IdTumor: line2.idTumor, MediaRaios: line2.mediaRaios,\n",
    "mediaPerimetros: line2.mediaPerimetros, mediaAreas: line2.mediaAreas})\n",
    "\n",
    "\n",
    "LOAD CSV WITH HEADERS FROM\n",
    "'https://raw.githubusercontent.com/matheusrotta7/lab2learn/master/mediaValoresVisuais.csv' AS line\n",
    "CREATE (:mediaVisuais\n",
    "{idTumor: line.idTumor, mediaTexturas: line.mediaTexturas, mediaSuavidades: line.mediaSuavidades, \n",
    " mediaCompactudes:  line.mediaCompactudes, mediaConcavidades: line.mediaConcavidades, mediaPontosConcavos:  line.mediaPontosConcavos, mediaSimetria: line.mediaSimetria, mediaDimensaoFractal: line.mediaDimensaoFractal})"
   ]
  }
 ],
 "metadata": {
  "kernelspec": {
   "display_name": "Python 2",
   "language": "python",
   "name": "python2"
  },
  "language_info": {
   "codemirror_mode": {
    "name": "ipython",
    "version": 2
   },
   "file_extension": ".py",
   "mimetype": "text/x-python",
   "name": "python",
   "nbconvert_exporter": "python",
   "pygments_lexer": "ipython2",
   "version": "2.7.15"
  }
 },
 "nbformat": 4,
 "nbformat_minor": 2
}
