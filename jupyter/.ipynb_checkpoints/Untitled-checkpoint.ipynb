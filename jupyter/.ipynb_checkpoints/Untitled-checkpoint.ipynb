{
 "cells": [
  {
   "cell_type": "code",
   "execution_count": 1,
   "metadata": {},
   "outputs": [],
   "source": [
    "# %%!\n",
    "# pip install --trusted-host pypi.org ipython-sql"
   ]
  },
  {
   "cell_type": "code",
   "execution_count": 2,
   "metadata": {},
   "outputs": [],
   "source": [
    "%load_ext sql"
   ]
  },
  {
   "cell_type": "code",
   "execution_count": 3,
   "metadata": {},
   "outputs": [
    {
     "data": {
      "text/plain": [
       "'Connected: @None'"
      ]
     },
     "execution_count": 3,
     "metadata": {},
     "output_type": "execute_result"
    }
   ],
   "source": [
    "%sql sqlite://"
   ]
  },
  {
   "cell_type": "markdown",
   "metadata": {},
   "source": [
    "**Modelo Lógico**:\n",
    "\n",
    "Tumor: (idTumor*, diagnóstico)\n",
    "MédiaValoresEscalares: (idTumor*, médiaRaios, médiaPerímetros, médiaÁreas)\n",
    "MédiaValoresVisuais: (idTumor*, médiaTexturas, médiaSuavidades, médiaCompactudes, médiaConcavidades, médiaPontosCôncavos, médiaSimetria, médiaDimensãoFractal)\n",
    "\n",
    "MaioresValoresEscalares: (idTumor*, maioresRaios, maioresPerímetros, maioresÁreas)\n",
    "MaioresValoresVisuais: (idTumor*, maioresTexturas, maioresSuavidades, maioresCompactudes, maioresConcavidades, maioresPontosCôncavos, maioresSimetria, maioresDimensãoFractal)\n",
    "\n",
    "DesvioPadrãoValoresEscalares: (idTumor*, desvioPadrãoRaios, desvioPadrãoPerímetros, desvioPadrãoÁreas)\n",
    "DesvioPadrãoValoresVisuais: (idTumor*, desvioPadrãoTexturas, desvioPadrãoSuavidades, desvioPadrãoCompactudes, desvioPadrãoConcavidades, desvioPadrãoPontosCôncavos, desvioPadrãoSimetria, desvioPadrãoDimensãoFractal)\n"
   ]
  },
  {
   "cell_type": "code",
   "execution_count": 4,
   "metadata": {},
   "outputs": [
    {
     "name": "stdout",
     "output_type": "stream",
     "text": [
      " * sqlite://\n",
      "Done.\n",
      "1 rows affected.\n",
      "Done.\n"
     ]
    },
    {
     "data": {
      "text/html": [
       "<table>\n",
       "    <tr>\n",
       "        <th>firstname</th>\n",
       "        <th>lastname</th>\n",
       "    </tr>\n",
       "    <tr>\n",
       "        <td>mickey</td>\n",
       "        <td>mouse</td>\n",
       "    </tr>\n",
       "</table>"
      ],
      "text/plain": [
       "[(u'mickey', u'mouse')]"
      ]
     },
     "execution_count": 4,
     "metadata": {},
     "output_type": "execute_result"
    }
   ],
   "source": [
    "%%sql\n",
    "CREATE TABLE Tumor (\n",
    "  id integer,\n",
    "  PRIMARY KEY(id)\n",
    ") AS SELECT\n",
    "    Id,\n",
    "    Genero,\n",
    "    Idade\n",
    "FROM CSVREAD('../data/nhanes/demographic-person.csv');"
   ]
  }
 ],
 "metadata": {
  "kernelspec": {
   "display_name": "Python 2",
   "language": "python",
   "name": "python2"
  },
  "language_info": {
   "codemirror_mode": {
    "name": "ipython",
    "version": 2
   },
   "file_extension": ".py",
   "mimetype": "text/x-python",
   "name": "python",
   "nbconvert_exporter": "python",
   "pygments_lexer": "ipython2",
   "version": "2.7.15"
  }
 },
 "nbformat": 4,
 "nbformat_minor": 2
}
